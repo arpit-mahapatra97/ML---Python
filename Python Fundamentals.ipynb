{
 "cells": [
  {
   "cell_type": "markdown",
   "metadata": {},
   "source": []
  },
  {
   "cell_type": "code",
   "execution_count": 11,
   "metadata": {},
   "outputs": [
    {
     "name": "stdout",
     "output_type": "stream",
     "text": [
      "[1, 2, 3, 4, 5]\n",
      "['ram', 'shyam', 'ravi', 'gopal', 'ali']\n",
      "ravi\n",
      "['ram', 'shyam', 'hari', 'gopal', 'ali']\n",
      "['ram', 'shyam', 'hari', 'gopal', 'ali', 0]\n",
      "['ram', 'shyam', 'rahim', 'hari', 'gopal', 'ali', 0]\n"
     ]
    }
   ],
   "source": [
    "a=[1,2,3,4,5]\n",
    "print (a)\n",
    "str1=['ram','shyam','ravi','gopal','ali']\n",
    "print (str1)\n",
    "print (str1[2])\n",
    "str1[2]='hari'\n",
    "print(str1)\n",
    "str1.append(0)\n",
    "print(str1)\n",
    "str1.insert(2,'rahim')\n",
    "print (str1)\n",
    "\n"
   ]
  },
  {
   "cell_type": "code",
   "execution_count": 22,
   "metadata": {},
   "outputs": [
    {
     "name": "stdout",
     "output_type": "stream",
     "text": [
      "[['ram', 'shyam', 'ravi', 'gopal'], ['ram', 'shyam', 'ravan']]\n",
      "7\n",
      "2\n",
      "shyam\n"
     ]
    }
   ],
   "source": [
    "a=['ram','shyam','ravi','gopal']\n",
    "b=['ram','shyam','ravan']\n",
    "c=[a,b]\n",
    "print (c)\n",
    "d=a+b\n",
    "print(len(d))\n",
    "print(len(c))\n",
    "print(max(d))\n"
   ]
  },
  {
   "cell_type": "code",
   "execution_count": 24,
   "metadata": {},
   "outputs": [
    {
     "name": "stdout",
     "output_type": "stream",
     "text": [
      "[6, 7, 8, 9] \n",
      " (0, 9, 8, 7)\n"
     ]
    }
   ],
   "source": [
    "a=(2,3,4,5)\n",
    "b=(6,7,8,9)\n",
    "c=[0,9,8,7]\n",
    "l=list(b)\n",
    "m=tuple(c)\n",
    "print(l,'\\n',m)"
   ]
  },
  {
   "cell_type": "code",
   "execution_count": 32,
   "metadata": {},
   "outputs": [
    {
     "name": "stdout",
     "output_type": "stream",
     "text": [
      "{1: 'ram', 2: 'hari', 3: 'rahim'}\n",
      "{1: 'ram', 2: 'hari', 3: 'rahim', 4: 'gopal'}\n",
      "hari\n"
     ]
    }
   ],
   "source": [
    "mydic={1:'ram',2:'hari',3:'rahim'} #curly braces to be used in key value store\n",
    "print(mydic)\n",
    "mydic[4]='gopal'\n",
    "print(mydic)\n",
    "print(mydic.get(2))"
   ]
  },
  {
   "cell_type": "code",
   "execution_count": 36,
   "metadata": {},
   "outputs": [
    {
     "name": "stdout",
     "output_type": "stream",
     "text": [
      "i am 16\n"
     ]
    }
   ],
   "source": [
    "#else if\n",
    "a=16\n",
    "if a>=17:\n",
    "    print(\"i am 18\")\n",
    "elif a==16:\n",
    "    print(\"i am 16\")\n",
    "else:\n",
    "    print(\"i am a robot\")"
   ]
  },
  {
   "cell_type": "code",
   "execution_count": 37,
   "metadata": {},
   "outputs": [
    {
     "name": "stdout",
     "output_type": "stream",
     "text": [
      "i am a robot\n"
     ]
    }
   ],
   "source": [
    "#else if with not\n",
    "a=16\n",
    "if a>=17:\n",
    "    print(\"i am 18\")\n",
    "elif not(a==16): #using not operator\n",
    "    print(\"i am 16\")\n",
    "else:\n",
    "    print(\"i am a robot\")"
   ]
  },
  {
   "cell_type": "code",
   "execution_count": null,
   "metadata": {},
   "outputs": [],
   "source": []
  }
 ],
 "metadata": {
  "kernelspec": {
   "display_name": "Python 3",
   "language": "python",
   "name": "python3"
  },
  "language_info": {
   "codemirror_mode": {
    "name": "ipython",
    "version": 3
   },
   "file_extension": ".py",
   "mimetype": "text/x-python",
   "name": "python",
   "nbconvert_exporter": "python",
   "pygments_lexer": "ipython3",
   "version": "3.6.4"
  }
 },
 "nbformat": 4,
 "nbformat_minor": 2
}
