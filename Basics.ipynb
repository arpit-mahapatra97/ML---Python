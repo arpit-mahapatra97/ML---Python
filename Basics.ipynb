{
 "cells": [
  {
   "cell_type": "code",
   "execution_count": 57,
   "metadata": {},
   "outputs": [
    {
     "name": "stdout",
     "output_type": "stream",
     "text": [
      "[[1 2 3]\n",
      " [3 4 5]]\n"
     ]
    }
   ],
   "source": [
    "import numpy as np\n",
    "import matplotlib.pyplot as plt\n",
    "a=np.array([(1,2,3),(3,4,5)])\n",
    "print (a)"
   ]
  },
  {
   "cell_type": "code",
   "execution_count": 13,
   "metadata": {},
   "outputs": [
    {
     "name": "stdout",
     "output_type": "stream",
     "text": [
      "[[1 2 3]\n",
      " [3 4 5]\n",
      " [7 8 9]]\n",
      "2\n",
      "4\n",
      "9\n",
      "(3, 3)\n"
     ]
    }
   ],
   "source": [
    "import numpy as np\n",
    "a=np.array([(1,2,3),(3,4,5),(7,8,9)])\n",
    "print (a)\n",
    "print (a.ndim) #dimension of the array\n",
    "print(a.itemsize) #size of the datatype used\n",
    "print(a.size) #size of the array\n",
    "print(a.shape) #gives the R and C of array in form of (R,C)\n"
   ]
  },
  {
   "cell_type": "code",
   "execution_count": 32,
   "metadata": {
    "scrolled": true
   },
   "outputs": [
    {
     "name": "stdout",
     "output_type": "stream",
     "text": [
      "[[1 2 3]\n",
      " [3 4 5]] \n",
      "\n",
      "[[1 2]\n",
      " [3 3]\n",
      " [4 5]] \n",
      "\n",
      "[4] \n",
      "\n",
      "[3 5]\n"
     ]
    }
   ],
   "source": [
    "b=np.array([(1,2,3),(3,4,5)])\n",
    "print(b,'\\n')\n",
    "print(b.reshape(3,2), '\\n')\n",
    "print(b[0:,1], '\\n')\n",
    "print(a[0:2,2])\n"
   ]
  },
  {
   "cell_type": "code",
   "execution_count": 37,
   "metadata": {},
   "outputs": [
    {
     "name": "stdout",
     "output_type": "stream",
     "text": [
      "[[1 2 3]\n",
      " [3 4 5]\n",
      " [7 8 9]]\n",
      "1\n",
      "9\n",
      "42\n"
     ]
    }
   ],
   "source": [
    "print(a)\n",
    "print(a.min())\n",
    "print(a.max())\n",
    "print(a.sum())"
   ]
  },
  {
   "cell_type": "code",
   "execution_count": 39,
   "metadata": {},
   "outputs": [
    {
     "name": "stdout",
     "output_type": "stream",
     "text": [
      "[[1 2 3]\n",
      " [3 4 5]\n",
      " [7 8 9]] \n",
      "\n",
      "[11 14 17] \n",
      "\n",
      "[ 6 12 24] \n",
      "\n"
     ]
    }
   ],
   "source": [
    "print(a,'\\n')\n",
    "print(a.sum(axis=0),'\\n')\n",
    "print(a.sum(axis=1),'\\n')"
   ]
  },
  {
   "cell_type": "code",
   "execution_count": 42,
   "metadata": {},
   "outputs": [
    {
     "name": "stdout",
     "output_type": "stream",
     "text": [
      "[[1 2 3]\n",
      " [3 4 5]\n",
      " [7 8 9]] \n",
      "\n",
      "[[1.         1.41421356 1.73205081]\n",
      " [1.73205081 2.         2.23606798]\n",
      " [2.64575131 2.82842712 3.        ]]\n",
      "2.6246692913372702\n"
     ]
    }
   ],
   "source": [
    "print (a,'\\n')\n",
    "print(np.sqrt(a)) #square root\n",
    "print(np.std(a)) #calculates standard deviation(sq. root of variance)"
   ]
  },
  {
   "cell_type": "code",
   "execution_count": 44,
   "metadata": {},
   "outputs": [
    {
     "name": "stdout",
     "output_type": "stream",
     "text": [
      "[[12 14 16]\n",
      " [17 19 21]\n",
      " [24 26 28]] \n",
      "\n",
      "[[-10 -10 -10]\n",
      " [-11 -11 -11]\n",
      " [-10 -10 -10]] \n",
      "\n",
      "[[ 11  24  39]\n",
      " [ 42  60  80]\n",
      " [119 144 171]] \n",
      "\n",
      "[[0.09090909 0.16666667 0.23076923]\n",
      " [0.21428571 0.26666667 0.3125    ]\n",
      " [0.41176471 0.44444444 0.47368421]] \n",
      "\n"
     ]
    }
   ],
   "source": [
    "c=np.array([(11,12,13),(14,15,16),(17,18,19)])\n",
    "print(a+c,'\\n')\n",
    "print(a-c,'\\n')\n",
    "print(a*c,'\\n')\n",
    "print(a/c,'\\n')"
   ]
  },
  {
   "cell_type": "code",
   "execution_count": 51,
   "metadata": {},
   "outputs": [
    {
     "name": "stdout",
     "output_type": "stream",
     "text": [
      "[[ 1  2  3]\n",
      " [ 3  4  5]\n",
      " [ 7  8  9]\n",
      " [11 12 13]\n",
      " [14 15 16]\n",
      " [17 18 19]] \n",
      "\n",
      "[[ 1  2  3 11 12 13]\n",
      " [ 3  4  5 14 15 16]\n",
      " [ 7  8  9 17 18 19]] \n",
      "\n",
      "[1 2 3 3 4 5 7 8 9]\n"
     ]
    }
   ],
   "source": [
    "print(np.vstack((a,c)),'\\n')\n",
    "print(np.hstack((a,c)),'\\n')\n",
    "print(a.ravel(),'\\n') #puts the whole array in one line\n"
   ]
  },
  {
   "cell_type": "code",
   "execution_count": 56,
   "metadata": {},
   "outputs": [
    {
     "name": "stdout",
     "output_type": "stream",
     "text": [
      "[ 2  5  8 11 14 17]\n"
     ]
    }
   ],
   "source": [
    "x=np.arange(2,20,3)#take arguments as arrange(start,stop,step,dtype) dtype beiing optional\n",
    "print(x)"
   ]
  },
  {
   "cell_type": "code",
   "execution_count": 69,
   "metadata": {},
   "outputs": [
    {
     "data": {
      "image/png": "[encoded data removed]",
      "text/plain": [
       "<matplotlib.figure.Figure at 0x1861f04b668>"
      ]
     },
     "metadata": {},
     "output_type": "display_data"
    }
   ],
   "source": [
    "x=np.arange(0,8,0.1)\n",
    "y=np.sin(x)\n",
    "z=np.cos(x)\n",
    "plt.plot(x,y)\n",
    "plt.plot(x,z)\n",
    "plt.show()"
   ]
  },
  {
   "cell_type": "code",
   "execution_count": 68,
   "metadata": {},
   "outputs": [
    {
     "data": {
      "image/png": "[encoded data removed]",
      "text/plain": [
       "<matplotlib.figure.Figure at 0x1862187a4a8>"
      ]
     },
     "metadata": {},
     "output_type": "display_data"
    }
   ],
   "source": [
    "w=np.tan(x)\n",
    "plt.plot(x,w)\n",
    "plt.show()"
   ]
  },
  {
   "cell_type": "code",
   "execution_count": 75,
   "metadata": {},
   "outputs": [
    {
     "name": "stdout",
     "output_type": "stream",
     "text": [
      "[[1 2 3]\n",
      " [3 4 5]] \n",
      "\n",
      "[[  2.71828183   7.3890561   20.08553692]\n",
      " [ 20.08553692  54.59815003 148.4131591 ]] \n",
      "\n",
      "[[0.         1.         1.5849625 ]\n",
      " [1.5849625  2.         2.32192809]] \n",
      "\n",
      "[[0.         0.30103    0.47712125]\n",
      " [0.47712125 0.60205999 0.69897   ]] \n",
      "\n"
     ]
    }
   ],
   "source": [
    "print(a,'\\n')\n",
    "print(np.exp(a),'\\n')\n",
    "print(np.log2(a),'\\n')\n",
    "print(np.log10(a),'\\n')"
   ]
  },
  {
   "cell_type": "code",
   "execution_count": null,
   "metadata": {},
   "outputs": [],
   "source": []
  }
 ],
 "metadata": {
  "kernelspec": {
   "display_name": "Python 3",
   "language": "python",
   "name": "python3"
  },
  "language_info": {
   "codemirror_mode": {
    "name": "ipython",
    "version": 3
   },
   "file_extension": ".py",
   "mimetype": "text/x-python",
   "name": "python",
   "nbconvert_exporter": "python",
   "pygments_lexer": "ipython3",
   "version": "3.6.4"
  }
 },
 "nbformat": 4,
 "nbformat_minor": 2
}
