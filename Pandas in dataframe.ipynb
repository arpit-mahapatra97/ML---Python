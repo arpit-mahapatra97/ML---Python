{
 "cells": [
  {
   "cell_type": "code",
   "execution_count": 23,
   "metadata": {},
   "outputs": [
    {
     "name": "stdout",
     "output_type": "stream",
     "text": [
      "   Age   Name  Sal\n",
      "0   21  Arpit  7.2\n",
      "1   23    Adi  6.1\n",
      "2   20   Lexi  6.5\n",
      "3   27  Alexa  7.8 \n",
      "\n",
      "   Age1  Name1  Sal1\n",
      "0    21  Arpit   7.2\n",
      "1    23    Adi   6.1\n",
      "2    20   Lexi   6.5\n",
      "3    27  Alexa   7.8 \n",
      "\n",
      "   Age   Name  Sal  Age1  Name1  Sal1\n",
      "0   21  Arpit  7.2    21  Arpit   7.2\n",
      "1   23    Adi  6.1    23    Adi   6.1\n",
      "2   20   Lexi  6.5    20   Lexi   6.5\n",
      "3   27  Alexa  7.8    27  Alexa   7.8 \n",
      "\n",
      "   Age1  Name1  Sal1  Age   Name  Sal\n",
      "0    21  Arpit   7.2   21  Arpit  7.2\n",
      "1    23    Adi   6.1   23    Adi  6.1\n",
      "2    20   Lexi   6.5   20   Lexi  6.5\n",
      "3    27  Alexa   7.8   27  Alexa  7.8 \n",
      "\n",
      "    Age  Age1   Name  Name1  Sal  Sal1\n",
      "0  21.0   NaN  Arpit    NaN  7.2   NaN\n",
      "1  23.0   NaN    Adi    NaN  6.1   NaN\n",
      "2  20.0   NaN   Lexi    NaN  6.5   NaN\n",
      "3  27.0   NaN  Alexa    NaN  7.8   NaN\n",
      "0   NaN  21.0    NaN  Arpit  NaN   7.2\n",
      "1   NaN  23.0    NaN    Adi  NaN   6.1\n",
      "2   NaN  20.0    NaN   Lexi  NaN   6.5\n",
      "3   NaN  27.0    NaN  Alexa  NaN   7.8\n"
     ]
    }
   ],
   "source": [
    "#pandas\n",
    "#joining\n",
    "\n",
    "import pandas as pd\n",
    "a=pd.DataFrame({'Name':['Arpit','Adi','Lexi','Alexa'],'Age':[21,23,20,27],'Sal':[7.2,6.1,6.5,7.8]})\n",
    "b=pd.DataFrame({'Name1':['Arpit','Adi','Lexi','Alexa'],'Age1':[21,23,20,27],'Sal1':[7.2,6.1,6.5,7.8]})\n",
    "\n",
    "print(a,'\\n')\n",
    "print(b,'\\n')\n",
    "\n",
    "c=a.join(b) #joins b on a into c\n",
    "print(c,'\\n')\n",
    "print(b.join(a),'\\n') #join a on b directly in print \n",
    "\n",
    "\n",
    "#concat\n",
    "\n",
    "conc=pd.concat([a,b]) #includes both dataframes in one\n",
    "print(conc)\n",
    "\n",
    "\n",
    "\n"
   ]
  },
  {
   "cell_type": "code",
   "execution_count": 14,
   "metadata": {},
   "outputs": [
    {
     "name": "stdout",
     "output_type": "stream",
     "text": [
      "   Age   Name  Sal\n",
      "0   21  Arpit  7.2\n",
      "1   23    Adi  6.1\n",
      "2   20   Lexi  6.5\n",
      "3   27  Alexa  7.8\n"
     ]
    }
   ],
   "source": [
    "#merging\n",
    "\n",
    "a=pd.DataFrame({'Name':['Arpit','Adi','Lexi','Alexa'],'Age':[21,23,20,27],'Sal':[7.2,6.1,6.5,7.8]})\n",
    "b=pd.DataFrame({'Name':['Arpit','Adi','Lexi','Alexa'],'Age':[21,23,20,27],'Sal':[7.2,6.1,6.5,7.8]})\n",
    "\n",
    "merge=pd.merge(a,b)\n",
    "print(merge)"
   ]
  },
  {
   "cell_type": "code",
   "execution_count": 25,
   "metadata": {},
   "outputs": [
    {
     "name": "stdout",
     "output_type": "stream",
     "text": [
      "      score\n",
      "year       \n",
      "2007    921\n",
      "2009    837\n",
      "2010   1090\n",
      "2011   1568\n"
     ]
    },
    {
     "data": {
      "image/png": "[encoded data removed]",
      "text/plain": [
       "<matplotlib.figure.Figure at 0x1c991ccdc88>"
      ]
     },
     "metadata": {},
     "output_type": "display_data"
    },
    {
     "name": "stdout",
     "output_type": "stream",
     "text": [
      "      runs\n",
      "year      \n",
      "2007   921\n",
      "2009   837\n",
      "2010  1090\n",
      "2011  1568\n"
     ]
    }
   ],
   "source": [
    "import matplotlib.pyplot as plt\n",
    "#from matplotlib import style\n",
    "#style.use(\"fivethirtyeight\")\n",
    "dhoni_data=pd.DataFrame({'year':[2007,2009,2010,2011],'score':[921,837,1090,1568]})\n",
    "dhoni_data.set_index('year',inplace=True)\n",
    "print(dhoni_data)\n",
    "dhoni_data.plot()\n",
    "plt.show()\n",
    "dhoni_data=dhoni_data.rename(columns={'score':'runs'}) #rename column header\n",
    "print(dhoni_data)"
   ]
  },
  {
   "cell_type": "code",
   "execution_count": null,
   "metadata": {},
   "outputs": [],
   "source": [
    "test=pd.read_csv('data.xlsx',index_col=0)\n",
    "print(test)\n",
    "\n",
    "test.to_html(test.html) #export the current file to the desired output"
   ]
  },
  {
   "cell_type": "code",
   "execution_count": null,
   "metadata": {},
   "outputs": [],
   "source": []
  }
 ],
 "metadata": {
  "kernelspec": {
   "display_name": "Python 3",
   "language": "python",
   "name": "python3"
  },
  "language_info": {
   "codemirror_mode": {
    "name": "ipython",
    "version": 3
   },
   "file_extension": ".py",
   "mimetype": "text/x-python",
   "name": "python",
   "nbconvert_exporter": "python",
   "pygments_lexer": "ipython3",
   "version": "3.6.4"
  }
 },
 "nbformat": 4,
 "nbformat_minor": 2
}
