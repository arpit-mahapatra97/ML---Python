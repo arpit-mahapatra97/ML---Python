{
 "cells": [
  {
   "cell_type": "markdown",
   "metadata": {},
   "source": []
  },
  {
   "cell_type": "code",
   "execution_count": 19,
   "metadata": {},
   "outputs": [
    {
     "name": "stdout",
     "output_type": "stream",
     "text": [
      "21\n",
      "y\n",
      " \n",
      "am learning\n",
      "a erigpto.\n",
      "I am learning python.\n",
      ".otpgire aI\n",
      ".nohtyp gninrael ma I\n",
      "I am learning python.\n",
      "I AM LEARNING PYTHON.\n",
      "i am learning python.\n"
     ]
    }
   ],
   "source": [
    "a='I am learning python.' #space considered as min value\n",
    "print(len(a))\n",
    "print(max(a))\n",
    "print(min(a))\n",
    "print(a[2:-8])\n",
    "print(a[2:len(a):2]) #skip n chars(n-1)\n",
    "print(a[0:len(a):1])\n",
    "print(a[::-2]) #reverse print\n",
    "print(a[::-1])\n",
    "print(a.capitalize()) #capitalize the first letter\n",
    "print(a.upper()) #capitalize all\n",
    "print(a.lower()) #lowercase all"
   ]
  },
  {
   "cell_type": "code",
   "execution_count": 29,
   "metadata": {},
   "outputs": [
    {
     "name": "stdout",
     "output_type": "stream",
     "text": [
      "1\n",
      "7\n",
      "-1\n"
     ]
    }
   ],
   "source": [
    "print(a.count('a',3,len(a))) #count no of a from position 3\n",
    "print(a.index('a',3,len(a))) #calculate the position of the 1st 'a' starting from position 3\n",
    "print(a.find('z'))"
   ]
  },
  {
   "cell_type": "code",
   "execution_count": 42,
   "metadata": {},
   "outputs": [
    {
     "name": "stdout",
     "output_type": "stream",
     "text": [
      "ehezzzzo fish, have a nice day\n",
      "ehello fish, hzzve zz nice day\n",
      "hello fish, have a nice day\n"
     ]
    }
   ],
   "source": [
    "str1='ehello fish, have a nice day'\n",
    "print(str1.replace('l','zz')) #replace the defined char\n",
    "print(str1.replace('a','zz',2)) #replace the defined char ntimes\n",
    "print(str1.strip('e')) #deletes the defined char from the start and end of string\n"
   ]
  },
  {
   "cell_type": "code",
   "execution_count": 48,
   "metadata": {},
   "outputs": [
    {
     "name": "stdout",
     "output_type": "stream",
     "text": [
      "['ram', 'is', 'a good boy']\n",
      "['ram', 'is', 'a good boy']\n",
      "['ram', 'is a good boy']\n"
     ]
    }
   ],
   "source": [
    "x='ram is a good boy'\n",
    "print(x.split(' ',2)) #splits the given string depending on the parameter defined(takes space as default)\n",
    "print(x.split(' ',2)) #splits the given string upto 2 spaces \n",
    "print(x.split(' ',1)) #splits the given string upto 1 space"
   ]
  },
  {
   "cell_type": "code",
   "execution_count": null,
   "metadata": {},
   "outputs": [],
   "source": []
  },
  {
   "cell_type": "code",
   "execution_count": null,
   "metadata": {},
   "outputs": [],
   "source": []
  }
 ],
 "metadata": {
  "kernelspec": {
   "display_name": "Python 3",
   "language": "python",
   "name": "python3"
  },
  "language_info": {
   "codemirror_mode": {
    "name": "ipython",
    "version": 3
   },
   "file_extension": ".py",
   "mimetype": "text/x-python",
   "name": "python",
   "nbconvert_exporter": "python",
   "pygments_lexer": "ipython3",
   "version": "3.6.4"
  }
 },
 "nbformat": 4,
 "nbformat_minor": 2
}
